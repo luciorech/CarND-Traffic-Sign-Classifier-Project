{
 "cells": [
  {
   "cell_type": "markdown",
   "metadata": {},
   "source": [
    "# Self-Driving Car Engineer Nanodegree\n",
    "\n",
    "## Deep Learning\n",
    "\n",
    "## Project: Build a Traffic Sign Recognition Classifier\n",
    "\n",
    "In this notebook, a template is provided for you to implement your functionality in stages which is required to successfully complete this project. If additional code is required that cannot be included in the notebook, be sure that the Python code is successfully imported and included in your submission, if necessary. Sections that begin with **'Implementation'** in the header indicate where you should begin your implementation for your project. Note that some sections of implementation are optional, and will be marked with **'Optional'** in the header.\n",
    "\n",
    "In addition to implementing code, there will be questions that you must answer which relate to the project and your implementation. Each section where you will answer a question is preceded by a **'Question'** header. Carefully read each question and provide thorough answers in the following text boxes that begin with **'Answer:'**. Your project submission will be evaluated based on your answers to each of the questions and the implementation you provide.\n",
    "\n",
    ">**Note:** Code and Markdown cells can be executed using the **Shift + Enter** keyboard shortcut. In addition, Markdown cells can be edited by typically double-clicking the cell to enter edit mode."
   ]
  },
  {
   "cell_type": "markdown",
   "metadata": {},
   "source": [
    "---\n",
    "## Step 0: Load The Data"
   ]
  },
  {
   "cell_type": "code",
   "execution_count": 1,
   "metadata": {
    "collapsed": false
   },
   "outputs": [],
   "source": [
    "import pickle\n",
    "import csv\n",
    "from sklearn.model_selection import train_test_split\n",
    "import random\n",
    "import numpy as np\n",
    "import cv2\n",
    "from skimage import exposure\n",
    "import matplotlib.pyplot as plt\n",
    "%matplotlib inline"
   ]
  },
  {
   "cell_type": "code",
   "execution_count": 2,
   "metadata": {
    "collapsed": false
   },
   "outputs": [],
   "source": [
    "# Load pickled data\n",
    "training_file = './train.p'\n",
    "testing_file = './test.p'\n",
    "\n",
    "with open(training_file, mode='rb') as f:\n",
    "    train = pickle.load(f)\n",
    "with open(testing_file, mode='rb') as f:\n",
    "    test = pickle.load(f)\n",
    "    \n",
    "X_train, y_train = train['features'], train['labels']\n",
    "X_test, y_test = test['features'], test['labels']"
   ]
  },
  {
   "cell_type": "markdown",
   "metadata": {},
   "source": [
    "---\n",
    "\n",
    "## Step 1: Dataset Summary & Exploration\n",
    "\n",
    "The pickled data is a dictionary with 4 key/value pairs:\n",
    "\n",
    "- `'features'` is a 4D array containing raw pixel data of the traffic sign images, (num examples, width, height, channels).\n",
    "- `'labels'` is a 2D array containing the label/class id of the traffic sign. The file `signnames.csv` contains id -> name mappings for each id.\n",
    "- `'sizes'` is a list containing tuples, (width, height) representing the the original width and height the image.\n",
    "- `'coords'` is a list containing tuples, (x1, y1, x2, y2) representing coordinates of a bounding box around the sign in the image. **THESE COORDINATES ASSUME THE ORIGINAL IMAGE. THE PICKLED DATA CONTAINS RESIZED VERSIONS (32 by 32) OF THESE IMAGES**\n",
    "\n",
    "Complete the basic data summary below."
   ]
  },
  {
   "cell_type": "code",
   "execution_count": 3,
   "metadata": {
    "collapsed": false
   },
   "outputs": [
    {
     "name": "stdout",
     "output_type": "stream",
     "text": [
      "Number of training examples = 39209\n",
      "Number of testing examples = 12630\n",
      "Image data shape = (32, 32, 3)\n",
      "Number of classes = 43\n"
     ]
    }
   ],
   "source": [
    "### Replace each question mark with the appropriate value.\n",
    "\n",
    "# TODO: Number of training examples\n",
    "n_train = len(X_train)\n",
    "\n",
    "# TODO: Number of testing examples.\n",
    "n_test = len(X_test)\n",
    "\n",
    "# TODO: What's the shape of an traffic sign image?\n",
    "image_shape = X_train[0].shape\n",
    "\n",
    "# TODO: How many unique classes/labels there are in the dataset.\n",
    "n_classes = len(set(y_test))\n",
    "\n",
    "print(\"Number of training examples =\", n_train)\n",
    "print(\"Number of testing examples =\", n_test)\n",
    "print(\"Image data shape =\", image_shape)\n",
    "print(\"Number of classes =\", n_classes)"
   ]
  },
  {
   "cell_type": "markdown",
   "metadata": {},
   "source": [
    "Visualize the German Traffic Signs Dataset using the pickled file(s). This is open ended, suggestions include: plotting traffic sign images, plotting the count of each sign, etc.\n",
    "\n",
    "The [Matplotlib](http://matplotlib.org/) [examples](http://matplotlib.org/examples/index.html) and [gallery](http://matplotlib.org/gallery.html) pages are a great resource for doing visualizations in Python.\n",
    "\n",
    "**NOTE:** It's recommended you start with something simple first. If you wish to do more, come back to it after you've completed the rest of the sections."
   ]
  },
  {
   "cell_type": "code",
   "execution_count": 4,
   "metadata": {
    "collapsed": false
   },
   "outputs": [
    {
     "name": "stdout",
     "output_type": "stream",
     "text": [
      "ClassId  SignName\n",
      "----------------------------------------\n",
      "0        Speed limit (20km/h)\n",
      "1        Speed limit (30km/h)\n",
      "2        Speed limit (50km/h)\n",
      "3        Speed limit (60km/h)\n",
      "4        Speed limit (70km/h)\n",
      "5        Speed limit (80km/h)\n",
      "6        End of speed limit (80km/h)\n",
      "7        Speed limit (100km/h)\n",
      "8        Speed limit (120km/h)\n",
      "9        No passing\n",
      "10       No passing for vehicles over 3.5 metric tons\n",
      "11       Right-of-way at the next intersection\n",
      "12       Priority road\n",
      "13       Yield\n",
      "14       Stop\n",
      "15       No vehicles\n",
      "16       Vehicles over 3.5 metric tons prohibited\n",
      "17       No entry\n",
      "18       General caution\n",
      "19       Dangerous curve to the left\n",
      "20       Dangerous curve to the right\n",
      "21       Double curve\n",
      "22       Bumpy road\n",
      "23       Slippery road\n",
      "24       Road narrows on the right\n",
      "25       Road work\n",
      "26       Traffic signals\n",
      "27       Pedestrians\n",
      "28       Children crossing\n",
      "29       Bicycles crossing\n",
      "30       Beware of ice/snow\n",
      "31       Wild animals crossing\n",
      "32       End of all speed and passing limits\n",
      "33       Turn right ahead\n",
      "34       Turn left ahead\n",
      "35       Ahead only\n",
      "36       Go straight or right\n",
      "37       Go straight or left\n",
      "38       Keep right\n",
      "39       Keep left\n",
      "40       Roundabout mandatory\n",
      "41       End of no passing\n",
      "42       End of no passing by vehicles over 3.5 metric tons\n"
     ]
    }
   ],
   "source": [
    "# Let's see what each label refers to\n",
    "labels_file = './signnames.csv'\n",
    "with open(labels_file, 'r') as f:\n",
    "    reader = csv.reader(f)\n",
    "    #labels_dict = dict(reader)\n",
    "    labels_list = list(reader)\n",
    "    \n",
    "row_format =\"{:8} {:s}\"\n",
    "print(row_format.format(*labels_list[0]))\n",
    "print(\"-\" * 40)\n",
    "row_format =\"{:8} {:s}\"\n",
    "for line in labels_list[1:]:\n",
    "    print(row_format.format(*line))\n",
    "labels_dict = dict(labels_list[1:])"
   ]
  },
  {
   "cell_type": "code",
   "execution_count": 5,
   "metadata": {
    "collapsed": false
   },
   "outputs": [
    {
     "name": "stdout",
     "output_type": "stream",
     "text": [
      "Min occ:  210\n",
      "Max occ:  2250\n",
      "Median occ:  600.0\n"
     ]
    },
    {
     "data": {
      "image/png": "[encoded data removed]",
      "text/plain": [
       "<matplotlib.figure.Figure at 0x7f75ae694240>"
      ]
     },
     "metadata": {},
     "output_type": "display_data"
    }
   ],
   "source": [
    "# Is our data balanced? We don't want to have any class over-represented\n",
    "occurrences = np.bincount(y_train)\n",
    "\n",
    "print(\"Min occ: \", min(occurrences))\n",
    "print(\"Max occ: \", max(occurrences))\n",
    "print(\"Median occ: \", np.median(occurrences))\n",
    "\n",
    "plt.bar(range(43), occurrences)\n",
    "plt.show()"
   ]
  },
  {
   "cell_type": "markdown",
   "metadata": {},
   "source": [
    "## Dealing with unbalanced data\n",
    "\n",
    "It turns out our training data is very unbalanced (which could create biases towards over-represented classes). We'll tackle this during training by randomly select a balanced subset every epoch."
   ]
  },
  {
   "cell_type": "code",
   "execution_count": 6,
   "metadata": {
    "collapsed": false
   },
   "outputs": [],
   "source": [
    "def balanced_subsample(x, y, subsample_size=1.0):\n",
    "\n",
    "    class_xs = []\n",
    "    min_elems = None\n",
    "\n",
    "    for yi in np.unique(y):\n",
    "        elems = x[(y == yi)]\n",
    "        class_xs.append((yi, elems))\n",
    "        if min_elems == None or elems.shape[0] < min_elems:\n",
    "            min_elems = elems.shape[0]\n",
    "\n",
    "    use_elems = int(min_elems * subsample_size)\n",
    "        \n",
    "    xs = []\n",
    "    ys = []\n",
    "\n",
    "    for ci,this_xs in class_xs:\n",
    "        if len(this_xs) > use_elems:\n",
    "            np.random.shuffle(this_xs)\n",
    "\n",
    "        x_ = this_xs[:use_elems]\n",
    "        y_ = np.empty(len(x_), dtype=int)\n",
    "        y_.fill(ci)\n",
    "        xs.append(x_)\n",
    "        ys.append(y_)\n",
    "\n",
    "    xs = np.concatenate(xs)\n",
    "    ys = np.concatenate(ys)\n",
    "\n",
    "    return xs,ys"
   ]
  },
  {
   "cell_type": "code",
   "execution_count": 7,
   "metadata": {
    "collapsed": false
   },
   "outputs": [
    {
     "data": {
      "image/png": "[encoded data removed]",
      "text/plain": [
       "<matplotlib.figure.Figure at 0x7f75ae5b1048>"
      ]
     },
     "metadata": {},
     "output_type": "display_data"
    }
   ],
   "source": [
    "# Just testing if our subsampling works (it does)\n",
    "X_balanced, y_balanced = balanced_subsample(X_train, y_train, 2.05)\n",
    "occurrences = np.bincount(y_balanced)\n",
    "plt.bar(range(43), occurrences)\n",
    "plt.show()"
   ]
  },
  {
   "cell_type": "markdown",
   "metadata": {},
   "source": [
    "## However, we'll end up with too few examples of each label if we simply subsample\n",
    "Before doing so, we'll augment the data set by introducing random image variations to it"
   ]
  },
  {
   "cell_type": "markdown",
   "metadata": {},
   "source": [
    "## Let's first cut a chunk of data to be our validation set"
   ]
  },
  {
   "cell_type": "code",
   "execution_count": 8,
   "metadata": {
    "collapsed": false
   },
   "outputs": [
    {
     "name": "stdout",
     "output_type": "stream",
     "text": [
      "Training set size =  31367\n",
      "Validation set size =  7842\n",
      "Test set size =  12630\n"
     ]
    }
   ],
   "source": [
    "X_train, X_validation, y_train, y_validation = train_test_split(X_train, y_train, test_size=0.2, random_state=42)\n",
    "print(\"Training set size = \", len(X_train))\n",
    "print(\"Validation set size = \", len(X_validation))\n",
    "print(\"Test set size = \", len(X_test))"
   ]
  },
  {
   "cell_type": "markdown",
   "metadata": {},
   "source": [
    "## Let's take a look at our images and get a feel for what they look like"
   ]
  },
  {
   "cell_type": "code",
   "execution_count": 9,
   "metadata": {
    "collapsed": false
   },
   "outputs": [
    {
     "name": "stdout",
     "output_type": "stream",
     "text": [
      "img shape =  (32, 32, 3)\n",
      "10 : No passing for vehicles over 3.5 metric tons\n"
     ]
    },
    {
     "data": {
      "image/png": "[encoded data removed]",
      "text/plain": [
       "<matplotlib.figure.Figure at 0x7f75ae536550>"
      ]
     },
     "metadata": {},
     "output_type": "display_data"
    }
   ],
   "source": [
    "index = random.randint(0, len(X_train))\n",
    "image = X_train[index].squeeze()\n",
    "print(\"img shape = \", image.shape)\n",
    "\n",
    "plt.figure(figsize=(1,1))\n",
    "plt.imshow(image, cmap=\"gray\")\n",
    "print(\"{:d} : {:s}\".format(y_train[index], labels_dict[str(y_train[index])]))"
   ]
  },
  {
   "cell_type": "markdown",
   "metadata": {},
   "source": [
    "## Augmenting data\n",
    "\n",
    "After looking at the winning model for the Traffic Sign Classifier challenge (people.idsia.ch/~juergen/nn2012traffic.pdf) and other techniques for increasing model robustness (mainly this one http://florianmuellerklein.github.io/cnn_streetview/), I decided to create 3 other training datasets in order to create an ensemble of NNs. \n",
    "\n",
    "For increasing model robustness I'll rely on dropouts (but we could use the same method being applied here to augment the data set to randomly modify training batches).\n",
    "\n",
    "For the ensemble implementation, many thanks to https://github.com/Hvass-Labs/TensorFlow-Tutorials/blob/master/05_Ensemble_Learning.ipynb"
   ]
  },
  {
   "cell_type": "code",
   "execution_count": 10,
   "metadata": {
    "collapsed": false
   },
   "outputs": [
    {
     "name": "stdout",
     "output_type": "stream",
     "text": [
      "[[40 41 37]\n",
      " [54 51 44]\n",
      " [59 54 48]\n",
      " [63 60 55]\n",
      " [58 58 55]]\n",
      "uint8\n",
      "[[ 0.18845168  0.18334784  0.1608925 ]\n",
      " [ 0.22224602  0.2062888   0.18093407]\n",
      " [ 0.23911725  0.22338176  0.20178853]\n",
      " [ 0.23817839  0.23174194  0.21568628]\n",
      " [ 0.21129099  0.21937098  0.20599027]]\n",
      "float32\n"
     ]
    },
    {
     "data": {
      "image/png": "[encoded data removed]",
      "text/plain": [
       "<matplotlib.figure.Figure at 0x7f75acccb518>"
      ]
     },
     "metadata": {},
     "output_type": "display_data"
    },
    {
     "data": {
      "image/png": "[encoded data removed]",
      "text/plain": [
       "<matplotlib.figure.Figure at 0x7f759ebfbc18>"
      ]
     },
     "metadata": {},
     "output_type": "display_data"
    }
   ],
   "source": [
    "from skimage import transform, filters, exposure\n",
    "\n",
    "def random_modify_image(image):\n",
    "    ''' \n",
    "    The idea here is to introduce random distortion to image batches\n",
    "    in order to make the model more robust and less biased to the training set\n",
    "    This is heavily inspired by Florian Muellerklein street signs recognition. More details\n",
    "    on his site: http://florianmuellerklein.github.io/cnn_streetview/\n",
    "    Output are numpy arrays where pixel are in range [0, 1]\n",
    "    '''\n",
    "    PIXELS = image.shape[0]\n",
    "    # random rotations betweein -5 and 5 degrees\n",
    "    dorotate = random.randint(-5,5)\n",
    "\n",
    "    # random translations\n",
    "    trans_1 = random.randint(-5,5)\n",
    "    trans_2 = random.randint(-5,5)\n",
    "\n",
    "    # random zooms\n",
    "    zoom = random.uniform(0.95, 1.05)\n",
    "    \n",
    "    # shearing\n",
    "    shear_deg = random.uniform(-10, 10)\n",
    "\n",
    "    # set the transform parameters for skimage.transform.warp\n",
    "    # have to shift to center and then shift back after transformation otherwise\n",
    "    # rotations will make image go out of frame\n",
    "    center_shift   = np.array((PIXELS, PIXELS)) / 2. - 0.5\n",
    "    tform_center   = transform.SimilarityTransform(translation=-center_shift)\n",
    "    tform_uncenter = transform.SimilarityTransform(translation=center_shift)\n",
    "\n",
    "    tform_aug = transform.AffineTransform(rotation = np.deg2rad(dorotate),\n",
    "                                          scale =(1/zoom, 1/zoom),\n",
    "                                          shear = np.deg2rad(shear_deg),\n",
    "                                          translation = (trans_1, trans_2))\n",
    "\n",
    "    tform = tform_center + tform_aug + tform_uncenter\n",
    "\n",
    "    return np.array(transform.warp(image, \\\n",
    "                          tform.params, \\\n",
    "                          output_shape=(PIXELS, PIXELS), \n",
    "                          mode='edge', \\\n",
    "                          preserve_range=False), dtype=np.float32)\n",
    "\n",
    "def random_modify_batch(batch):\n",
    "    return np.array([random_modify_image(img) for img in batch])\n",
    "\n",
    "# DEBUG\n",
    "images = X_train[0:1]\n",
    "new_batch = random_modify_batch(images)\n",
    "for i in range(len(new_batch)):\n",
    "    plt.figure(figsize=(1,1))\n",
    "    plt.imshow(X_train[i], cmap=\"gray\")\n",
    "    print(X_train[i][0][0:5])\n",
    "    print(X_train[i].dtype)\n",
    "    plt.figure(figsize=(1,1))\n",
    "    plt.imshow(new_batch[i], cmap=\"gray\")\n",
    "    print(new_batch[i][0][0:5])\n",
    "    print(new_batch[i].dtype)"
   ]
  },
  {
   "cell_type": "code",
   "execution_count": 11,
   "metadata": {
    "collapsed": false,
    "scrolled": false
   },
   "outputs": [
    {
     "name": "stdout",
     "output_type": "stream",
     "text": [
      "original training count =  (31367, 32, 32, 3)\n"
     ]
    }
   ],
   "source": [
    "# Augmenting the training set 5-fold\n",
    "BATCH_SIZE = 128\n",
    "NUM_ITERS = 5\n",
    "num_examples = len(X_train)\n",
    "\n",
    "print(\"original training count = \", X_train.shape)\n",
    "\n",
    "X_train_norm = np.array(X_train / 255., dtype=np.float32)"
   ]
  },
  {
   "cell_type": "code",
   "execution_count": 12,
   "metadata": {
    "collapsed": false
   },
   "outputs": [
    {
     "name": "stdout",
     "output_type": "stream",
     "text": [
      "Iter 0\n",
      "Augmented training count =  (31367, 32, 32, 3)\n",
      "Iter 1\n",
      "Augmented training count =  (62734, 32, 32, 3)\n",
      "Iter 2\n",
      "Augmented training count =  (94101, 32, 32, 3)\n",
      "Iter 3\n",
      "Augmented training count =  (125468, 32, 32, 3)\n",
      "Final augmented training count = (156835, 32, 32, 3), dtype = float32\n"
     ]
    }
   ],
   "source": [
    "X_train_aug = X_train_norm\n",
    "y_train_aug = y_train\n",
    "\n",
    "for i in range(NUM_ITERS - 1):\n",
    "    print(\"Iter {}\".format(i))\n",
    "    print(\"Augmented training count = \", X_train_aug.shape)\n",
    "    X_batch = []\n",
    "    y_batch = []\n",
    "    for offset in range(num_examples):\n",
    "        X_batch.append(random_modify_image(X_train_norm[offset]))\n",
    "        y_batch.append(y_train[offset])\n",
    "    X_train_aug = np.append(X_train_aug, np.array(X_batch), axis=0)\n",
    "    y_train_aug = np.append(y_train_aug, np.array(y_batch), axis=0)\n",
    "\n",
    "print(\"Final augmented training count = {}, dtype = {}\".format(X_train_aug.shape, X_train_aug.dtype))"
   ]
  },
  {
   "cell_type": "code",
   "execution_count": 13,
   "metadata": {
    "collapsed": false
   },
   "outputs": [
    {
     "data": {
      "image/png": "[encoded data removed]",
      "text/plain": [
       "<matplotlib.figure.Figure at 0x7f75acd40940>"
      ]
     },
     "metadata": {},
     "output_type": "display_data"
    },
    {
     "name": "stdout",
     "output_type": "stream",
     "text": [
      "0.0\n",
      "1.0\n"
     ]
    }
   ],
   "source": [
    "# Looks correct?\n",
    "occurrences = np.bincount(y_train_aug)\n",
    "plt.bar(range(43), occurrences)\n",
    "plt.show()\n",
    "\n",
    "print(np.min(X_train_aug))\n",
    "print(np.max(X_train_aug))"
   ]
  },
  {
   "cell_type": "code",
   "execution_count": 14,
   "metadata": {
    "collapsed": false
   },
   "outputs": [],
   "source": [
    "# Creating aditional training sets with different image equalization ideas\n",
    "def rescale_intensity(img):\n",
    "    p2, p98 = np.percentile(img, (2, 98))\n",
    "    img_rescale = exposure.rescale_intensity(img, in_range=(p2, p98))\n",
    "    return img_rescale\n",
    "\n",
    "def adapteq(img):\n",
    "    tmp = np.array(img * 255, dtype=np.uint8)\n",
    "    clahe = cv2.createCLAHE(clipLimit=4.0, tileGridSize=(3,3))\n",
    "    img_yuv = cv2.cvtColor(tmp, cv2.COLOR_BGR2YUV)\n",
    "    img_yuv[:,:,0] = clahe.apply(img_yuv[:,:,0])\n",
    "    img_adapteq = cv2.cvtColor(img_yuv, cv2.COLOR_YUV2BGR)\n",
    "    return normalize(img_adapteq)\n",
    "    \n",
    "def equalize(img):\n",
    "    tmp = np.array(img * 255, dtype=np.uint8)\n",
    "    img_yuv = cv2.cvtColor(tmp, cv2.COLOR_BGR2YUV)\n",
    "    img_yuv[:,:,0] = cv2.equalizeHist(img_yuv[:,:,0])\n",
    "    img_eq = cv2.cvtColor(img_yuv, cv2.COLOR_YUV2BGR)\n",
    "    return normalize(img_eq)\n",
    "\n",
    "def normalize(img):\n",
    "    return np.array(img / 255., dtype=np.float32)"
   ]
  },
  {
   "cell_type": "code",
   "execution_count": 15,
   "metadata": {
    "collapsed": false
   },
   "outputs": [],
   "source": [
    "# Different subsamples for each network (not fully balanced to get enough samples, but much more balanced than before)\n",
    "X_orig, y_orig = balanced_subsample(X_train_aug, y_train_aug, 3)\n",
    "X_eq, y_eq = balanced_subsample(X_train_aug, y_train_aug, 3)\n",
    "X_adapteq, y_adapteq = balanced_subsample(X_train_aug, y_train_aug, 3)\n",
    "X_rescale, y_rescale = balanced_subsample(X_train_aug, y_train_aug, 3)"
   ]
  },
  {
   "cell_type": "code",
   "execution_count": 16,
   "metadata": {
    "collapsed": false
   },
   "outputs": [],
   "source": [
    "# Normalizing data and equalizing\n",
    "X_train_dict = {0: X_orig,\n",
    "                1: np.array([equalize(img) for img in X_eq]),\n",
    "                2: np.array([adapteq(img) for img in X_adapteq]),\n",
    "                3: np.array([rescale_intensity(img) for img in X_rescale])}\n",
    "y_train_dict = {0: y_orig,\n",
    "                1: y_eq,\n",
    "                2: y_adapteq,\n",
    "                3: y_rescale}\n",
    "\n",
    "X_validation = np.array([normalize(img) for img in X_validation], dtype=np.float32)\n",
    "X_valid_dict = {0: X_validation,\n",
    "                1: np.array([equalize(img) for img in X_validation]),\n",
    "                2: np.array([adapteq(img) for img in X_validation]),\n",
    "                3: np.array([rescale_intensity(img) for img in X_validation])}\n",
    "y_valid_dict = {0: y_validation,\n",
    "                1: y_validation,\n",
    "                2: y_validation,\n",
    "                3: y_validation}\n",
    "\n",
    "X_test = np.array([normalize(img) for img in X_test], dtype=np.float32)\n",
    "X_test_dict = {0: X_test,\n",
    "               1: np.array([equalize(img) for img in X_test]),\n",
    "               2: np.array([adapteq(img) for img in X_test]),\n",
    "               3: np.array([rescale_intensity(img) for img in X_test])}\n",
    "y_test_dict = {0: y_test,\n",
    "               1: y_test,\n",
    "               2: y_test,\n",
    "               3: y_test}\n",
    "\n",
    "# Store data\n",
    "with open('x_valid_dict.pickle', 'wb') as handle:\n",
    "    pickle.dump(X_valid_dict, handle, protocol=pickle.HIGHEST_PROTOCOL)\n",
    "with open('y_valid_dict.pickle', 'wb') as handle:\n",
    "    pickle.dump(y_valid_dict, handle, protocol=pickle.HIGHEST_PROTOCOL)\n",
    "with open('x_test_dict.pickle', 'wb') as handle:\n",
    "    pickle.dump(X_test_dict, handle, protocol=pickle.HIGHEST_PROTOCOL)\n",
    "with open('y_test_dict.pickle', 'wb') as handle:\n",
    "    pickle.dump(y_test_dict, handle, protocol=pickle.HIGHEST_PROTOCOL)"
   ]
  },
  {
   "cell_type": "code",
   "execution_count": 17,
   "metadata": {
    "collapsed": false
   },
   "outputs": [
    {
     "name": "stdout",
     "output_type": "stream",
     "text": [
      "min = 0.0000, max = 1.0000, shape = (81900, 32, 32, 3)\n",
      "min = 0.0000, max = 1.0000, shape = (81900, 32, 32, 3)\n",
      "min = 0.0000, max = 1.0000, shape = (81900, 32, 32, 3)\n",
      "min = 0.0000, max = 1.0000, shape = (81900, 32, 32, 3)\n",
      "min = 0.0000, max = 1.0000, shape = (7842, 32, 32, 3)\n",
      "min = 0.0000, max = 1.0000, shape = (7842, 32, 32, 3)\n",
      "min = 0.0000, max = 1.0000, shape = (7842, 32, 32, 3)\n",
      "min = 0.0000, max = 1.0000, shape = (7842, 32, 32, 3)\n",
      "min = 0.0000, max = 1.0000, shape = (12630, 32, 32, 3)\n",
      "min = 0.0000, max = 1.0000, shape = (12630, 32, 32, 3)\n",
      "min = 0.0235, max = 1.0000, shape = (12630, 32, 32, 3)\n",
      "min = 0.0000, max = 1.0000, shape = (12630, 32, 32, 3)\n"
     ]
    }
   ],
   "source": [
    "# Checking all sets are correct\n",
    "for i in sorted(X_train_dict.keys()):\n",
    "    print(\"min = {:.4f}, max = {:.4f}, shape = {}\".format(np.min(X_train_dict[i]), \\\n",
    "                                                          np.max(X_train_dict[i]), \\\n",
    "                                                          X_train_dict[i].shape))\n",
    "for i in sorted(X_valid_dict.keys()):\n",
    "    print(\"min = {:.4f}, max = {:.4f}, shape = {}\".format(np.min(X_valid_dict[i]), \\\n",
    "                                                          np.max(X_valid_dict[i]), \\\n",
    "                                                          X_valid_dict[i].shape))\n",
    "for i in sorted(X_test_dict.keys()):\n",
    "    print(\"min = {:.4f}, max = {:.4f}, shape = {}\".format(np.min(X_test_dict[i]), \\\n",
    "                                                          np.max(X_test_dict[i]), \\\n",
    "                                                          X_test_dict[i].shape))"
   ]
  },
  {
   "cell_type": "code",
   "execution_count": 18,
   "metadata": {
    "collapsed": false
   },
   "outputs": [
    {
     "data": {
      "image/png": "[encoded data removed]",
      "text/plain": [
       "<matplotlib.figure.Figure at 0x7f75ae4cb198>"
      ]
     },
     "metadata": {},
     "output_type": "display_data"
    },
    {
     "data": {
      "image/png": "[encoded data removed]",
      "text/plain": [
       "<matplotlib.figure.Figure at 0x7f75ae694b70>"
      ]
     },
     "metadata": {},
     "output_type": "display_data"
    },
    {
     "data": {
      "image/png": "[encoded data removed]",
      "text/plain": [
       "<matplotlib.figure.Figure at 0x7f759eb5d6a0>"
      ]
     },
     "metadata": {},
     "output_type": "display_data"
    },
    {
     "data": {
      "image/png": "[encoded data removed]",
      "text/plain": [
       "<matplotlib.figure.Figure at 0x7f75ae55f4a8>"
      ]
     },
     "metadata": {},
     "output_type": "display_data"
    }
   ],
   "source": [
    "# Let's take a look at the resulting images\n",
    "for i in sorted(X_train_dict.keys()):\n",
    "    plt.figure(figsize=(2,2))\n",
    "    plt.imshow(X_train_dict[i][0], cmap=\"gray\")"
   ]
  },
  {
   "cell_type": "markdown",
   "metadata": {},
   "source": [
    "----\n",
    "\n",
    "## Step 2: Design and Test a Model Architecture\n",
    "\n",
    "Design and implement a deep learning model that learns to recognize traffic signs. Train and test your model on the [German Traffic Sign Dataset](http://benchmark.ini.rub.de/?section=gtsrb&subsection=dataset).\n",
    "\n",
    "There are various aspects to consider when thinking about this problem:\n",
    "\n",
    "- Neural network architecture\n",
    "- Play around preprocessing techniques (normalization, rgb to grayscale, etc)\n",
    "- Number of examples per label (some have more than others).\n",
    "- Generate fake data.\n",
    "\n",
    "Here is an example of a [published baseline model on this problem](http://yann.lecun.com/exdb/publis/pdf/sermanet-ijcnn-11.pdf). It's not required to be familiar with the approach used in the paper but, it's good practice to try to read papers like these.\n",
    "\n",
    "**NOTE:** The LeNet-5 implementation shown in the [classroom](https://classroom.udacity.com/nanodegrees/nd013/parts/fbf77062-5703-404e-b60c-95b78b2f3f9e/modules/6df7ae49-c61c-4bb2-a23e-6527e69209ec/lessons/601ae704-1035-4287-8b11-e2c2716217ad/concepts/d4aca031-508f-4e0b-b493-e7b706120f81) at the end of the CNN lesson is a solid starting point. You'll have to change the number of classes and possibly the preprocessing, but aside from that it's plug and play!"
   ]
  },
  {
   "cell_type": "markdown",
   "metadata": {},
   "source": [
    "### Implementation\n",
    "\n",
    "Use the code cell (or multiple code cells, if necessary) to implement the first step of your project. Once you have completed your implementation and are satisfied with the results, be sure to thoroughly answer the questions that follow."
   ]
  },
  {
   "cell_type": "code",
   "execution_count": 19,
   "metadata": {
    "collapsed": true
   },
   "outputs": [],
   "source": [
    "import tensorflow as tf"
   ]
  },
  {
   "cell_type": "code",
   "execution_count": 20,
   "metadata": {
    "collapsed": false
   },
   "outputs": [],
   "source": [
    "from tensorflow.contrib.layers import flatten\n",
    "\n",
    "def TrafficNet(x):\n",
    "    # Hyperparameters\n",
    "    mu = 0\n",
    "    sigma = 0.1\n",
    "    \n",
    "    # Layer 1: Convolutional. Input = 32x32x3. Output = 28x28x48\n",
    "    conv1_W = tf.Variable(tf.truncated_normal(shape=(5, 5, 3, 48), mean = mu, stddev = sigma))\n",
    "    conv1_b = tf.Variable(tf.zeros(48))\n",
    "    conv1   = tf.nn.conv2d(x, conv1_W, strides=[1, 1, 1, 1], padding='VALID') + conv1_b\n",
    "    conv1 = tf.nn.relu(conv1)\n",
    "\n",
    "    # Pooling. Input = 28x28x48. Output = 14x14x48.\n",
    "    conv1 = tf.nn.max_pool(conv1, ksize=[1, 2, 2, 1], strides=[1, 2, 2, 1], padding='VALID')\n",
    "\n",
    "    # Layer 2: Convolutional. Output = 10x10x96.\n",
    "    conv2_W = tf.Variable(tf.truncated_normal(shape=(5, 5, 48, 96), mean = mu, stddev = sigma))\n",
    "    conv2_b = tf.Variable(tf.zeros(96))\n",
    "    conv2   = tf.nn.conv2d(conv1, conv2_W, strides=[1, 1, 1, 1], padding='VALID') + conv2_b\n",
    "    conv2 = tf.nn.relu(conv2)\n",
    "\n",
    "    # Pooling. Input = 10x10x96. Output = 5x5x96.\n",
    "    conv2 = tf.nn.max_pool(conv2, ksize=[1, 2, 2, 1], strides=[1, 2, 2, 1], padding='VALID')\n",
    "\n",
    "    # Flatten. Input = 5x5x96. Output = 2400.\n",
    "    fc0   = flatten(conv2)\n",
    "    \n",
    "    # Layer 3: Fully Connected. Input = 2400. Output = 800. Dropout.\n",
    "    fc1_W = tf.Variable(tf.truncated_normal(shape=(2400, 800), mean = mu, stddev = sigma))\n",
    "    fc1_b = tf.Variable(tf.zeros(800))\n",
    "    fc1   = tf.matmul(fc0, fc1_W) + fc1_b\n",
    "    fc1 = tf.nn.relu(fc1)\n",
    "    fc1 = tf.nn.dropout(fc1, keep_prob)\n",
    "\n",
    "    # Layer 4: Fully Connected. Input = 800. Output = 240. Dropout.\n",
    "    fc2_W  = tf.Variable(tf.truncated_normal(shape=(800, 240), mean = mu, stddev = sigma))\n",
    "    fc2_b  = tf.Variable(tf.zeros(240))\n",
    "    fc2    = tf.matmul(fc1, fc2_W) + fc2_b\n",
    "    fc2    = tf.nn.relu(fc2)\n",
    "    fc2    = tf.nn.dropout(fc2, keep_prob)\n",
    "    \n",
    "    # Layer 5: Fully Connected. Input = 240. Output = 43.\n",
    "    fc3_W  = tf.Variable(tf.truncated_normal(shape=(240, 43), mean = mu, stddev = sigma))\n",
    "    fc3_b  = tf.Variable(tf.zeros(43))\n",
    "    logits = tf.matmul(fc2, fc3_W) + fc3_b\n",
    "    \n",
    "    return logits"
   ]
  },
  {
   "cell_type": "code",
   "execution_count": 21,
   "metadata": {
    "collapsed": true
   },
   "outputs": [],
   "source": [
    "x = tf.placeholder(tf.float32, (None, 32, 32, 3))\n",
    "y = tf.placeholder(tf.int32, (None))\n",
    "one_hot_y = tf.one_hot(y, 43)\n",
    "keep_prob = tf.placeholder(tf.float32)"
   ]
  },
  {
   "cell_type": "code",
   "execution_count": 22,
   "metadata": {
    "collapsed": true
   },
   "outputs": [],
   "source": [
    "rate = 0.001\n",
    "\n",
    "logits = TrafficNet(x)\n",
    "cross_entropy = tf.nn.softmax_cross_entropy_with_logits(logits, one_hot_y)\n",
    "loss_operation = tf.reduce_mean(cross_entropy)\n",
    "optimizer = tf.train.AdamOptimizer(learning_rate = rate)\n",
    "training_operation = optimizer.minimize(loss_operation)"
   ]
  },
  {
   "cell_type": "code",
   "execution_count": 23,
   "metadata": {
    "collapsed": true
   },
   "outputs": [],
   "source": [
    "correct_prediction = tf.equal(tf.argmax(logits, 1), tf.argmax(one_hot_y, 1))\n",
    "accuracy_operation = tf.reduce_mean(tf.cast(correct_prediction, tf.float32))\n",
    "\n",
    "def evaluate(X_data, y_data):\n",
    "    num_examples = len(X_data)\n",
    "    total_accuracy = 0\n",
    "    sess = tf.get_default_session()\n",
    "    for offset in range(0, num_examples, BATCH_SIZE):\n",
    "        batch_x, batch_y = X_data[offset:offset+BATCH_SIZE], y_data[offset:offset+BATCH_SIZE]\n",
    "        accuracy = session.run(accuracy_operation, feed_dict={x: batch_x, y: batch_y, keep_prob: 1.0})\n",
    "        total_accuracy += (accuracy * len(batch_x))\n",
    "    return total_accuracy / num_examples"
   ]
  },
  {
   "cell_type": "code",
   "execution_count": 24,
   "metadata": {
    "collapsed": false
   },
   "outputs": [],
   "source": [
    "import os\n",
    "saver = tf.train.Saver(max_to_keep=100)\n",
    "save_dir = 'checkpoints/'\n",
    "\n",
    "if not os.path.exists(save_dir):\n",
    "    os.makedirs(save_dir)\n",
    "\n",
    "def get_save_path(net_number):\n",
    "    return save_dir + 'network' + str(net_number)"
   ]
  },
  {
   "cell_type": "code",
   "execution_count": 25,
   "metadata": {
    "collapsed": true
   },
   "outputs": [],
   "source": [
    "from sklearn.utils import shuffle\n",
    "\n",
    "session = tf.Session()\n",
    "EPOCHS = 20\n",
    "BATCH_SIZE = 64"
   ]
  },
  {
   "cell_type": "code",
   "execution_count": 26,
   "metadata": {
    "collapsed": false
   },
   "outputs": [
    {
     "name": "stdout",
     "output_type": "stream",
     "text": [
      "Neural network: 0\n",
      "Epoch: 0, Accuracy on Validation-Set: 0.9063\n",
      "Epoch: 1, Accuracy on Validation-Set: 0.9832\n",
      "Epoch: 2, Accuracy on Validation-Set: 0.9869\n",
      "Epoch: 3, Accuracy on Validation-Set: 0.9925\n",
      "Epoch: 4, Accuracy on Validation-Set: 0.9903\n",
      "Epoch: 5, Accuracy on Validation-Set: 0.9872\n",
      "Epoch: 6, Accuracy on Validation-Set: 0.9906\n",
      "Epoch: 7, Accuracy on Validation-Set: 0.9930\n",
      "Epoch: 8, Accuracy on Validation-Set: 0.9936\n",
      "Epoch: 9, Accuracy on Validation-Set: 0.9958\n",
      "Saved.\n",
      "\n",
      "Neural network: 1\n",
      "Epoch: 0, Accuracy on Validation-Set: 0.8157\n",
      "Epoch: 1, Accuracy on Validation-Set: 0.9267\n",
      "Epoch: 2, Accuracy on Validation-Set: 0.9631\n",
      "Epoch: 3, Accuracy on Validation-Set: 0.9742\n",
      "Epoch: 4, Accuracy on Validation-Set: 0.9779\n",
      "Epoch: 5, Accuracy on Validation-Set: 0.9852\n",
      "Epoch: 6, Accuracy on Validation-Set: 0.9816\n",
      "Epoch: 7, Accuracy on Validation-Set: 0.9892\n",
      "Epoch: 8, Accuracy on Validation-Set: 0.9833\n",
      "Epoch: 9, Accuracy on Validation-Set: 0.9860\n",
      "Epoch: 10, Accuracy on Validation-Set: 0.9881\n",
      "Epoch: 11, Accuracy on Validation-Set: 0.9870\n",
      "Epoch: 12, Accuracy on Validation-Set: 0.9890\n",
      "Epoch: 13, Accuracy on Validation-Set: 0.9862\n",
      "Epoch: 14, Accuracy on Validation-Set: 0.9866\n",
      "Epoch: 15, Accuracy on Validation-Set: 0.9901\n",
      "Epoch: 16, Accuracy on Validation-Set: 0.9888\n",
      "Epoch: 17, Accuracy on Validation-Set: 0.9869\n",
      "Epoch: 18, Accuracy on Validation-Set: 0.9870\n",
      "Epoch: 19, Accuracy on Validation-Set: 0.9862\n",
      "Saved.\n",
      "\n",
      "Neural network: 2\n",
      "Epoch: 0, Accuracy on Validation-Set: 0.9021\n",
      "Epoch: 1, Accuracy on Validation-Set: 0.9676\n",
      "Epoch: 2, Accuracy on Validation-Set: 0.9846\n",
      "Epoch: 3, Accuracy on Validation-Set: 0.9814\n",
      "Epoch: 4, Accuracy on Validation-Set: 0.9917\n",
      "Epoch: 5, Accuracy on Validation-Set: 0.9888\n",
      "Epoch: 6, Accuracy on Validation-Set: 0.9904\n",
      "Epoch: 7, Accuracy on Validation-Set: 0.9894\n",
      "Epoch: 8, Accuracy on Validation-Set: 0.9923\n",
      "Epoch: 9, Accuracy on Validation-Set: 0.9955\n",
      "Saved.\n",
      "\n",
      "Neural network: 3\n",
      "Epoch: 0, Accuracy on Validation-Set: 0.9306\n",
      "Epoch: 1, Accuracy on Validation-Set: 0.9890\n",
      "Epoch: 2, Accuracy on Validation-Set: 0.9906\n",
      "Epoch: 3, Accuracy on Validation-Set: 0.9901\n",
      "Epoch: 4, Accuracy on Validation-Set: 0.9925\n",
      "Epoch: 5, Accuracy on Validation-Set: 0.9955\n",
      "Saved.\n",
      "\n"
     ]
    }
   ],
   "source": [
    "for i in sorted(X_train_dict.keys()):\n",
    "    print(\"Neural network: {0}\".format(i))\n",
    "    session.run(tf.global_variables_initializer())\n",
    "    num_examples = len(X_train_dict[i])\n",
    "    for j in range(EPOCHS):\n",
    "        X_epoch, y_epoch = shuffle(X_train_dict[i], y_train_dict[i])\n",
    "        for offset in range(0, num_examples, BATCH_SIZE):\n",
    "            end = offset + BATCH_SIZE\n",
    "            batch_x, batch_y = X_epoch[offset:end], y_epoch[offset:end]\n",
    "            session.run(training_operation, feed_dict={x: batch_x, y: batch_y, keep_prob: 0.5})\n",
    "        \n",
    "        validation_accuracy = evaluate(X_valid_dict[i], y_valid_dict[i])\n",
    "        msg = \"Epoch: {0}, Accuracy on Validation-Set: {1:.4f}\"\n",
    "        print(msg.format(j, validation_accuracy))\n",
    "        if validation_accuracy > 0.995:\n",
    "            break\n",
    "    saver.save(sess=session, save_path=get_save_path(i))\n",
    "    print(\"Saved.\")\n",
    "    print()"
   ]
  },
  {
   "cell_type": "code",
   "execution_count": 27,
   "metadata": {
    "collapsed": false
   },
   "outputs": [],
   "source": [
    "# Load data\n",
    "with open('x_valid_dict.pickle', 'rb') as handle:\n",
    "    X_valid_dict = pickle.load(handle)\n",
    "with open('y_valid_dict.pickle', 'rb') as handle:\n",
    "    y_valid_dict = pickle.load(handle)\n",
    "with open('x_test_dict.pickle', 'rb') as handle:\n",
    "    X_test_dict = pickle.load(handle)\n",
    "with open('y_test_dict.pickle', 'rb') as handle:\n",
    "    y_test_dict = pickle.load(handle)"
   ]
  },
  {
   "cell_type": "code",
   "execution_count": 28,
   "metadata": {
    "collapsed": true
   },
   "outputs": [],
   "source": [
    "def softmax_predictions(X_data, y_data):\n",
    "    num_examples = len(X_data)\n",
    "    pred_labels = np.zeros(shape=(num_examples, 43), dtype=np.float)\n",
    "    probabilites = tf.nn.softmax(logits)\n",
    "    \n",
    "    for offset in range(0, num_examples, BATCH_SIZE):\n",
    "        end = offset + BATCH_SIZE\n",
    "        pred_labels[offset:end] = session.run(probabilites, feed_dict={x: X_data[offset:end], \n",
    "                                                                       y: y_data[offset:end], \n",
    "                                                                       keep_prob: 1.0})\n",
    "\n",
    "    return pred_labels"
   ]
  },
  {
   "cell_type": "code",
   "execution_count": 29,
   "metadata": {
    "collapsed": true
   },
   "outputs": [],
   "source": [
    "def ensemble_predictions():\n",
    "    # Empty list of predicted labels for each of the neural networks.\n",
    "    pred_labels = []\n",
    "\n",
    "    # Classification accuracy on the test-set for each network.\n",
    "    test_accuracies = []\n",
    "\n",
    "    # Classification accuracy on the validation-set for each network.\n",
    "    val_accuracies = []\n",
    "\n",
    "    # For each neural network in the ensemble.\n",
    "    for i in sorted(X_test_dict.keys()):\n",
    "        # Reload the variables into the TensorFlow graph.\n",
    "        saver.restore(sess=session, save_path=get_save_path(i))\n",
    "\n",
    "        # Calculate the classification accuracy on the test-set.\n",
    "        val_acc = evaluate(X_valid_dict[i], y_valid_dict[i])\n",
    "        val_accuracies.append(val_acc)\n",
    "        test_acc = evaluate(X_test_dict[i], y_test_dict[i])\n",
    "        test_accuracies.append(test_acc)\n",
    "        msg = \"Network: {0}, Accuracy on Validation-Set: {1:.4f}, Test-Set: {2:.4f}\"\n",
    "        print(msg.format(i, val_acc, test_acc))\n",
    "\n",
    "        pred = softmax_predictions(X_test_dict[i], y_test_dict[i])\n",
    "        pred_labels.append(pred)\n",
    "    \n",
    "    return np.array(pred_labels), \\\n",
    "           np.array(test_accuracies), \\\n",
    "           np.array(val_accuracies)"
   ]
  },
  {
   "cell_type": "code",
   "execution_count": 49,
   "metadata": {
    "collapsed": false
   },
   "outputs": [
    {
     "name": "stdout",
     "output_type": "stream",
     "text": [
      "Network: 0, Accuracy on Validation-Set: 0.9958, Test-Set: 0.9613\n",
      "Network: 1, Accuracy on Validation-Set: 0.9862, Test-Set: 0.9523\n",
      "Network: 2, Accuracy on Validation-Set: 0.9955, Test-Set: 0.9644\n",
      "Network: 3, Accuracy on Validation-Set: 0.9955, Test-Set: 0.9622\n"
     ]
    }
   ],
   "source": [
    "pred_labels, test_accuracies, val_accuracies = ensemble_predictions()"
   ]
  },
  {
   "cell_type": "markdown",
   "metadata": {},
   "source": [
    "## Now let's use the different networks predicted labels to get more robust predictions\n",
    "We'll average the probabilities for each label for each test image"
   ]
  },
  {
   "cell_type": "code",
   "execution_count": 50,
   "metadata": {
    "collapsed": false
   },
   "outputs": [
    {
     "data": {
      "text/plain": [
       "(12630, 43)"
      ]
     },
     "execution_count": 50,
     "metadata": {},
     "output_type": "execute_result"
    }
   ],
   "source": [
    "ensemble_pred_labels = np.mean(pred_labels, axis=0)\n",
    "ensemble_pred_labels.shape"
   ]
  },
  {
   "cell_type": "code",
   "execution_count": 51,
   "metadata": {
    "collapsed": false
   },
   "outputs": [
    {
     "data": {
      "text/plain": [
       "(12630,)"
      ]
     },
     "execution_count": 51,
     "metadata": {},
     "output_type": "execute_result"
    }
   ],
   "source": [
    "ensemble_pred = np.argmax(ensemble_pred_labels, axis=1)\n",
    "ensemble_pred.shape"
   ]
  },
  {
   "cell_type": "code",
   "execution_count": 52,
   "metadata": {
    "collapsed": false
   },
   "outputs": [],
   "source": [
    "ensemble_correct = (ensemble_pred == y_test_dict[0])\n",
    "ensemble_acc = np.sum(ensemble_correct) / len(y_test_dict[0])"
   ]
  },
  {
   "cell_type": "code",
   "execution_count": 58,
   "metadata": {
    "collapsed": false
   },
   "outputs": [
    {
     "name": "stdout",
     "output_type": "stream",
     "text": [
      "Image 0 top 3 predictions\n",
      "-> Label = 16 : Vehicles over 3.5 metric tons prohibited, certainty = 1.000\n",
      "-> Label = 34 : Turn left ahead, certainty = 0.000\n",
      "-> Label = 9 : No passing, certainty = 0.000\n",
      "Image 1 top 3 predictions\n",
      "-> Label = 1 : Speed limit (30km/h), certainty = 1.000\n",
      "-> Label = 2 : Speed limit (50km/h), certainty = 0.000\n",
      "-> Label = 4 : Speed limit (70km/h), certainty = 0.000\n",
      "Image 2 top 3 predictions\n",
      "-> Label = 38 : Keep right, certainty = 1.000\n",
      "-> Label = 34 : Turn left ahead, certainty = 0.000\n",
      "-> Label = 0 : Speed limit (20km/h), certainty = 0.000\n",
      "Image 3 top 3 predictions\n",
      "-> Label = 33 : Turn right ahead, certainty = 1.000\n",
      "-> Label = 42 : End of no passing by vehicles over 3.5 metric tons, certainty = 0.000\n",
      "-> Label = 37 : Go straight or left, certainty = 0.000\n",
      "Image 4 top 3 predictions\n",
      "-> Label = 11 : Right-of-way at the next intersection, certainty = 1.000\n",
      "-> Label = 30 : Beware of ice/snow, certainty = 0.000\n",
      "-> Label = 20 : Dangerous curve to the right, certainty = 0.000\n"
     ]
    }
   ],
   "source": [
    "for i in range(5):\n",
    "    print(\"Image {} top 3 predictions\".format(i))\n",
    "    top_3 = (-ensemble_pred_labels[i]).argsort()[:3]\n",
    "    for label in top_3:\n",
    "        print(\"-> Label = {} : {}, certainty = {:.3f}\".format(label, \\\n",
    "                                                              labels_dict[str(label)], \\\n",
    "                                                              ensemble_pred_labels[i][label]))"
   ]
  },
  {
   "cell_type": "code",
   "execution_count": 72,
   "metadata": {
    "collapsed": false
   },
   "outputs": [
    {
     "name": "stdout",
     "output_type": "stream",
     "text": [
      "Image 50 top 3 predictions\n",
      "-> Correct label = 25 : Road work\n",
      "-> Label = 18 : General caution, certainty = 0.231\n",
      "-> Label = 25 : Road work, certainty = 0.147\n",
      "-> Label = 26 : Traffic signals, certainty = 0.127\n",
      "Image 83 top 3 predictions\n",
      "-> Correct label = 7 : Speed limit (100km/h)\n",
      "-> Label = 8 : Speed limit (120km/h), certainty = 0.500\n",
      "-> Label = 7 : Speed limit (100km/h), certainty = 0.491\n",
      "-> Label = 5 : Speed limit (80km/h), certainty = 0.008\n",
      "Image 114 top 3 predictions\n",
      "-> Correct label = 30 : Beware of ice/snow\n",
      "-> Label = 23 : Slippery road, certainty = 0.553\n",
      "-> Label = 30 : Beware of ice/snow, certainty = 0.139\n",
      "-> Label = 20 : Dangerous curve to the right, certainty = 0.106\n",
      "Image 127 top 3 predictions\n",
      "-> Correct label = 30 : Beware of ice/snow\n",
      "-> Label = 20 : Dangerous curve to the right, certainty = 0.478\n",
      "-> Label = 18 : General caution, certainty = 0.249\n",
      "-> Label = 31 : Wild animals crossing, certainty = 0.068\n",
      "Image 131 top 3 predictions\n",
      "-> Correct label = 3 : Speed limit (60km/h)\n",
      "-> Label = 5 : Speed limit (80km/h), certainty = 0.433\n",
      "-> Label = 3 : Speed limit (60km/h), certainty = 0.371\n",
      "-> Label = 42 : End of no passing by vehicles over 3.5 metric tons, certainty = 0.096\n"
     ]
    }
   ],
   "source": [
    "wrong_predictions = list(np.where(ensemble_correct == 0))\n",
    "for i in wrong_predictions[0][0:5]:\n",
    "    print(\"Image {} top 3 predictions\".format(i))\n",
    "    top_3 = (-ensemble_pred_labels[i]).argsort()[:3]\n",
    "    print(\"-> Correct label = {} : {}\".format(y_test_dict[0][i], \\\n",
    "                                              labels_dict[str(y_test_dict[0][i])]))\n",
    "    for label in top_3:\n",
    "        print(\"-> Label = {} : {}, certainty = {:.3f}\".format(label, \\\n",
    "                                                              labels_dict[str(label)], \\\n",
    "                                                              ensemble_pred_labels[i][label]))"
   ]
  },
  {
   "cell_type": "code",
   "execution_count": 73,
   "metadata": {
    "collapsed": false
   },
   "outputs": [
    {
     "name": "stdout",
     "output_type": "stream",
     "text": [
      "Ensemble accuracy on Test-Set: 0.9841\n"
     ]
    }
   ],
   "source": [
    "print(\"Ensemble accuracy on Test-Set: {:.4f}\".format(ensemble_acc))"
   ]
  },
  {
   "cell_type": "markdown",
   "metadata": {},
   "source": [
    "### Question 1 \n",
    "\n",
    "_Describe how you preprocessed the data. Why did you choose that technique?_"
   ]
  },
  {
   "cell_type": "markdown",
   "metadata": {},
   "source": [
    "**Answer:**\n",
    "I cut 20% of the training set to serve as validation (we could have used cross-validation instead but I felt there was no need for it in this particular example). Other than that, images were normalized to be in the range of [0, 1] instead of [0, 255]. Using color images are the obvious choice here since traffic signs convey information not only through shapes but also through colors. I also wanted to have models that were robust to different light conditions: creating models that use different types of image equalization do help with model generalizations. \n",
    "This is also backed by the winner paper in the traffic sign classifier challenge (people.idsia.ch/~juergen/nn2012traffic.pdf)"
   ]
  },
  {
   "cell_type": "markdown",
   "metadata": {},
   "source": [
    "### Question 2\n",
    "\n",
    "_Describe how you set up the training, validation and testing data for your model. **Optional**: If you generated additional data, how did you generate the data? Why did you generate the data? What are the differences in the new dataset (with generated data) from the original dataset?_"
   ]
  },
  {
   "cell_type": "markdown",
   "metadata": {},
   "source": [
    "**Answer:**\n",
    "Looking at the training set, we can see that data is extremely unbalanced. The number of examples per sign varies from ~200 examples to ~2000 (a inbalance of 10x). I wanted to subsample my training data so that labels were more balanced but didn't want to end up with too few images. Also, I wanted my models to be more robust to variation. To achieve these two goals, I created extra images with random rotation/translation/shearing (ending with a training set 5x bigger the oiginal). I then used this augmented data set to create subsamples with a maximum unbalance of 3x.\n",
    "Another option for robustness would be to introduce variation in the images during training. This however, makes the training much slower and a few tests showed no significant increase in accuracy.\n",
    "\n",
    "I also wanted to use an ensemble of NNs to increase prediction accuracy. So, I created three other data-sets to serve as input for other NNs. In the end, I used an ensemble of 4 models (original, equalization, adaptive equalization, intensity rescaling)."
   ]
  },
  {
   "cell_type": "code",
   "execution_count": 74,
   "metadata": {
    "collapsed": true
   },
   "outputs": [],
   "source": [
    "### Define your architecture here.\n",
    "# Please refer to TrafficNet() up in the notebook"
   ]
  },
  {
   "cell_type": "markdown",
   "metadata": {},
   "source": [
    "### Question 3\n",
    "\n",
    "_What does your final architecture look like? (Type of model, layers, sizes, connectivity, etc.)  For reference on how to build a deep neural network using TensorFlow, see [Deep Neural Network in TensorFlow\n",
    "](https://classroom.udacity.com/nanodegrees/nd013/parts/fbf77062-5703-404e-b60c-95b78b2f3f9e/modules/6df7ae49-c61c-4bb2-a23e-6527e69209ec/lessons/b516a270-8600-4f93-a0a3-20dfeabe5da6/concepts/83a3a2a2-a9bd-4b7b-95b0-eb924ab14432) from the classroom._\n"
   ]
  },
  {
   "cell_type": "markdown",
   "metadata": {},
   "source": [
    "**Answer:**\n",
    "I'm using an ensemble of 4 NNs (using the original, equalized, adpative equalized and intensity rescaled images). Each of the networks is modeled as follows:\n",
    "\n",
    "1. Layer 1: Convolutional. Input = 32x32x3. Output = 28x28x48 (5x5 filter, stride 1)\n",
    "2. Max Pooling: Input = 28x28x48. Output = 14x14x48.\n",
    "3. Layer 2: Convolutional. Input = 14x14x48 Output = 10x10x96. (5x5 filter, stride 1)\n",
    "4. Max Pooling. Input = 10x10x96. Output = 5x5x96.\n",
    "5. Flatten. Input = 5x5x96. Output = 2400.\n",
    "6. Layer 3: Fully Connected. Input = 2400. Output = 800 + 50% Dropout.\n",
    "7. Layer 4: Fully Connected. Input = 800. Output = 240 + 50% Dropout.\n",
    "8. Layer 5: Fully Connected. Input = 240. Output = 43.\n",
    "\n",
    "The softmax output of the 4 networks is then averaged to get our final prediction"
   ]
  },
  {
   "cell_type": "code",
   "execution_count": 75,
   "metadata": {
    "collapsed": true
   },
   "outputs": [],
   "source": [
    "### Train your model here.\n",
    "### Feel free to use as many code cells as needed.\n",
    "# Please refer to training code above in the notebook"
   ]
  },
  {
   "cell_type": "markdown",
   "metadata": {},
   "source": [
    "### Question 4\n",
    "\n",
    "_How did you train your model? (Type of optimizer, batch size, epochs, hyperparameters, etc.)_\n"
   ]
  },
  {
   "cell_type": "markdown",
   "metadata": {},
   "source": [
    "**Answer:**\n",
    "\n",
    "I'm using an Adam Optimizer, learning rate of 0.001, batch size of 64. Different batch sizes didn't produce any significant changes in accuracy. Higher learning rates produced worst results, smaller rates took too long to converge.\n",
    "\n",
    "I've limited my training to 20 epochs and added an accuracy cut-off to avoid overfitting. For the weights initialization, I used a normal distribution centered in zero with 0.1 standard deviation. "
   ]
  },
  {
   "cell_type": "markdown",
   "metadata": {},
   "source": [
    "### Question 5\n",
    "\n",
    "\n",
    "_What approach did you take in coming up with a solution to this problem? It may have been a process of trial and error, in which case, outline the steps you took to get to the final solution and why you chose those steps. Perhaps your solution involved an already well known implementation or architecture. In this case, discuss why you think this is suitable for the current problem._"
   ]
  },
  {
   "cell_type": "markdown",
   "metadata": {},
   "source": [
    "**Answer:**\n",
    "\n",
    "I conducted several experiments:\n",
    "\n",
    "- Using LeNet as a first approach\n",
    "- Adding dropout layers\n",
    "- Augmenting data (and then realizing I needed more neurons to deal with the added complexity)\n",
    "- Incresing the depth of the filters\n",
    "- Testing how an extra convolutional layer would affect training\n",
    "- Using different equalization techniques\n",
    "- Using random perturbation both as pre-processing and during training\n",
    "- Subsampling options\n",
    "- Ensemble of NNs\n",
    "\n",
    "In the end, I decided to stick to the ensemble approach that won the Traffic Sign Classifier challenge with a few changes (mainly to spare some computing power). I have also adapted the depth of the networks since we're using smaller images (32x32 vs. 48x48). I have also used a different perturbation method than the one described in the Juergen's paper. Since I was not adding random perturbations during training, using dropout felt like a correct approach to increase robustness.\n",
    "\n",
    "I'm confident that I could boost test accuracy up (I achieved 98.41%) by adding a few extra networks to the ensemble."
   ]
  },
  {
   "cell_type": "markdown",
   "metadata": {},
   "source": [
    "---\n",
    "\n",
    "## Step 3: Test a Model on New Images\n",
    "\n",
    "Take several pictures of traffic signs that you find on the web or around you (at least five), and run them through your classifier on your computer to produce example results. The classifier might not recognize some local signs but it could prove interesting nonetheless.\n",
    "\n",
    "You may find `signnames.csv` useful as it contains mappings from the class id (integer) to the actual sign name."
   ]
  },
  {
   "cell_type": "markdown",
   "metadata": {},
   "source": [
    "### Implementation\n",
    "\n",
    "Use the code cell (or multiple code cells, if necessary) to implement the first step of your project. Once you have completed your implementation and are satisfied with the results, be sure to thoroughly answer the questions that follow."
   ]
  },
  {
   "cell_type": "code",
   "execution_count": 76,
   "metadata": {
    "collapsed": false
   },
   "outputs": [
    {
     "data": {
      "image/png": "[encoded data removed]",
      "text/plain": [
       "<matplotlib.figure.Figure at 0x7f730e2cbd30>"
      ]
     },
     "metadata": {},
     "output_type": "display_data"
    },
    {
     "data": {
      "image/png": "[encoded data removed]",
      "text/plain": [
       "<matplotlib.figure.Figure at 0x7f7591f30630>"
      ]
     },
     "metadata": {},
     "output_type": "display_data"
    },
    {
     "data": {
      "image/png": "[encoded data removed]",
      "text/plain": [
       "<matplotlib.figure.Figure at 0x7f730e1a9a90>"
      ]
     },
     "metadata": {},
     "output_type": "display_data"
    },
    {
     "data": {
      "image/png": "[encoded data removed]",
      "text/plain": [
       "<matplotlib.figure.Figure at 0x7f730e2b8e48>"
      ]
     },
     "metadata": {},
     "output_type": "display_data"
    },
    {
     "data": {
      "image/png": "[encoded data removed]",
      "text/plain": [
       "<matplotlib.figure.Figure at 0x7f730e207d30>"
      ]
     },
     "metadata": {},
     "output_type": "display_data"
    },
    {
     "data": {
      "image/png": "[encoded data removed]",
      "text/plain": [
       "<matplotlib.figure.Figure at 0x7f730e3134e0>"
      ]
     },
     "metadata": {},
     "output_type": "display_data"
    },
    {
     "data": {
      "image/png": "[encoded data removed]",
      "text/plain": [
       "<matplotlib.figure.Figure at 0x7f730e605c18>"
      ]
     },
     "metadata": {},
     "output_type": "display_data"
    }
   ],
   "source": [
    "### Load the images and plot them here.\n",
    "### Feel free to use as many code cells as needed.\n",
    "import os\n",
    "import matplotlib.image as mpimg\n",
    "\n",
    "new_images = []\n",
    "img_path = \"./us_signs/\"\n",
    "image_list = os.listdir(img_path)\n",
    "for img_file in image_list:\n",
    "    #image = cv2.imread(img_path + img_file, cv2.IMREAD_COLOR)\n",
    "    image = mpimg.imread(img_path + img_file)\n",
    "    new_images.append(image)\n",
    "    plt.figure(figsize=(1,1))\n",
    "    plt.imshow(image, cmap=\"gray\")"
   ]
  },
  {
   "cell_type": "markdown",
   "metadata": {},
   "source": [
    "### Question 6\n",
    "\n",
    "_Choose five candidate images of traffic signs and provide them in the report. Are there any particular qualities of the image(s) that might make classification difficult? It could be helpful to plot the images in the notebook._\n",
    "\n"
   ]
  },
  {
   "cell_type": "markdown",
   "metadata": {},
   "source": [
    "**Answer:**\n",
    "Using the first 5 images of the set above, we could see that light conditions are far from ideal (these pictures were taken at night). Another obvious problem is that not all signs are part of the german sign database."
   ]
  },
  {
   "cell_type": "code",
   "execution_count": 77,
   "metadata": {
    "collapsed": false
   },
   "outputs": [
    {
     "data": {
      "image/png": "[encoded data removed]",
      "text/plain": [
       "<matplotlib.figure.Figure at 0x7f730e596630>"
      ]
     },
     "metadata": {},
     "output_type": "display_data"
    },
    {
     "data": {
      "image/png": "[encoded data removed]",
      "text/plain": [
       "<matplotlib.figure.Figure at 0x7f730e6bdac8>"
      ]
     },
     "metadata": {},
     "output_type": "display_data"
    },
    {
     "data": {
      "image/png": "[encoded data removed]",
      "text/plain": [
       "<matplotlib.figure.Figure at 0x7f7591f09eb8>"
      ]
     },
     "metadata": {},
     "output_type": "display_data"
    },
    {
     "data": {
      "image/png": "[encoded data removed]",
      "text/plain": [
       "<matplotlib.figure.Figure at 0x7f7591ed8d30>"
      ]
     },
     "metadata": {},
     "output_type": "display_data"
    }
   ],
   "source": [
    "# Pre-processing\n",
    "X_us_signs = np.array([normalize(img) for img in new_images[0:5]], dtype=np.float32)\n",
    "X_us_signs = {0: X_us_signs,\n",
    "              1: np.array([equalize(img) for img in X_us_signs]),\n",
    "              2: np.array([adapteq(img) for img in X_us_signs]),\n",
    "              3: np.array([rescale_intensity(img) for img in X_us_signs])}\n",
    "\n",
    "# Let's take a look at the resulting images\n",
    "for i in sorted(X_us_signs.keys()):\n",
    "    plt.figure(figsize=(2,2))\n",
    "    plt.imshow(X_us_signs[i][0], cmap=\"gray\")"
   ]
  },
  {
   "cell_type": "code",
   "execution_count": 78,
   "metadata": {
    "collapsed": true
   },
   "outputs": [],
   "source": [
    "def unlabeled_predictions(X_data):\n",
    "    pred_labels = []\n",
    "    # For each neural network in the ensemble.\n",
    "    for i in sorted(X_data.keys()):\n",
    "        # Reload the variables into the TensorFlow graph.\n",
    "        saver.restore(sess=session, save_path=get_save_path(i))\n",
    "        y_data = np.zeros(len(X_data))\n",
    "        pred = softmax_predictions(X_data[i], y_data)\n",
    "        pred_labels.append(pred)\n",
    "    \n",
    "    return np.array(pred_labels)"
   ]
  },
  {
   "cell_type": "code",
   "execution_count": 79,
   "metadata": {
    "collapsed": false
   },
   "outputs": [
    {
     "name": "stdout",
     "output_type": "stream",
     "text": [
      "(5, 43)\n",
      "(5,)\n"
     ]
    }
   ],
   "source": [
    "pred_labels = unlabeled_predictions(X_us_signs)\n",
    "ensemble_pred_labels = np.mean(pred_labels, axis=0)\n",
    "ensemble_pred = np.argmax(ensemble_pred_labels, axis=1)\n",
    "print(ensemble_pred_labels.shape)\n",
    "print(ensemble_pred.shape)"
   ]
  },
  {
   "cell_type": "code",
   "execution_count": 80,
   "metadata": {
    "collapsed": false
   },
   "outputs": [
    {
     "name": "stdout",
     "output_type": "stream",
     "text": [
      "Image 0 top 5 predictions\n",
      "-> Label = 14 : Stop, certainty = 0.673\n",
      "-> Label = 1 : Speed limit (30km/h), certainty = 0.068\n",
      "-> Label = 2 : Speed limit (50km/h), certainty = 0.066\n",
      "-> Label = 5 : Speed limit (80km/h), certainty = 0.020\n",
      "-> Label = 40 : Roundabout mandatory, certainty = 0.020\n",
      "Image 1 top 5 predictions\n",
      "-> Label = 12 : Priority road, certainty = 0.410\n",
      "-> Label = 5 : Speed limit (80km/h), certainty = 0.334\n",
      "-> Label = 2 : Speed limit (50km/h), certainty = 0.070\n",
      "-> Label = 13 : Yield, certainty = 0.059\n",
      "-> Label = 8 : Speed limit (120km/h), certainty = 0.036\n",
      "Image 2 top 5 predictions\n",
      "-> Label = 2 : Speed limit (50km/h), certainty = 0.137\n",
      "-> Label = 8 : Speed limit (120km/h), certainty = 0.104\n",
      "-> Label = 20 : Dangerous curve to the right, certainty = 0.096\n",
      "-> Label = 1 : Speed limit (30km/h), certainty = 0.094\n",
      "-> Label = 26 : Traffic signals, certainty = 0.062\n",
      "Image 3 top 5 predictions\n",
      "-> Label = 13 : Yield, certainty = 0.227\n",
      "-> Label = 26 : Traffic signals, certainty = 0.214\n",
      "-> Label = 5 : Speed limit (80km/h), certainty = 0.157\n",
      "-> Label = 25 : Road work, certainty = 0.122\n",
      "-> Label = 24 : Road narrows on the right, certainty = 0.047\n",
      "Image 4 top 5 predictions\n",
      "-> Label = 2 : Speed limit (50km/h), certainty = 0.226\n",
      "-> Label = 20 : Dangerous curve to the right, certainty = 0.112\n",
      "-> Label = 13 : Yield, certainty = 0.069\n",
      "-> Label = 5 : Speed limit (80km/h), certainty = 0.055\n",
      "-> Label = 19 : Dangerous curve to the left, certainty = 0.055\n"
     ]
    }
   ],
   "source": [
    "for i in range(len(ensemble_pred)):\n",
    "    print(\"Image {} top 5 predictions\".format(i))\n",
    "    top_5 = (-ensemble_pred_labels[i]).argsort()[:5]\n",
    "    for label in top_5:\n",
    "        print(\"-> Label = {} : {}, certainty = {:.3f}\".format(label, \\\n",
    "                                                              labels_dict[str(label)], \\\n",
    "                                                              ensemble_pred_labels[i][label]))"
   ]
  },
  {
   "cell_type": "markdown",
   "metadata": {},
   "source": [
    "### Question 7\n",
    "\n",
    "_Is your model able to perform equally well on captured pictures when compared to testing on the dataset? The simplest way to do this check the accuracy of the predictions. For example, if the model predicted 1 out of 5 signs correctly, it's 20% accurate._\n",
    "\n",
    "_**NOTE:** You could check the accuracy manually by using `signnames.csv` (same directory). This file has a mapping from the class id (0-42) to the corresponding sign name. So, you could take the class id the model outputs, lookup the name in `signnames.csv` and see if it matches the sign from the image._\n"
   ]
  },
  {
   "cell_type": "markdown",
   "metadata": {},
   "source": [
    "**Answer:**\n",
    "The accuracy with the test set is reasonably good: 98.41%. Accuracy for the sample US traffic signs was 20%, but that's what I expected. From all signs in the dataset, the only that could be matched to the german traffic signs database was the stop sign and it was correctly predicted (with 67.3% certainty). I believe the trained model could perform well under real world conditions. It would be very interesting to get access to more data that could match the signs in the database and really put this statement to test."
   ]
  },
  {
   "cell_type": "code",
   "execution_count": 81,
   "metadata": {
    "collapsed": true
   },
   "outputs": [],
   "source": [
    "### Visualize the softmax probabilities here.\n",
    "## Softmax predictions are printed just before question 7"
   ]
  },
  {
   "cell_type": "markdown",
   "metadata": {},
   "source": [
    "### Question 8\n",
    "\n",
    "*Use the model's softmax probabilities to visualize the **certainty** of its predictions, [`tf.nn.top_k`](https://www.tensorflow.org/versions/r0.12/api_docs/python/nn.html#top_k) could prove helpful here. Which predictions is the model certain of? Uncertain? If the model was incorrect in its initial prediction, does the correct prediction appear in the top k? (k should be 5 at most)*\n",
    "\n",
    "`tf.nn.top_k` will return the values and indices (class ids) of the top k predictions. So if k=3, for each sign, it'll return the 3 largest probabilities (out of a possible 43) and the correspoding class ids.\n",
    "\n",
    "Take this numpy array as an example:\n",
    "\n",
    "```\n",
    "# (5, 6) array\n",
    "a = np.array([[ 0.24879643,  0.07032244,  0.12641572,  0.34763842,  0.07893497,\n",
    "         0.12789202],\n",
    "       [ 0.28086119,  0.27569815,  0.08594638,  0.0178669 ,  0.18063401,\n",
    "         0.15899337],\n",
    "       [ 0.26076848,  0.23664738,  0.08020603,  0.07001922,  0.1134371 ,\n",
    "         0.23892179],\n",
    "       [ 0.11943333,  0.29198961,  0.02605103,  0.26234032,  0.1351348 ,\n",
    "         0.16505091],\n",
    "       [ 0.09561176,  0.34396535,  0.0643941 ,  0.16240774,  0.24206137,\n",
    "         0.09155967]])\n",
    "```\n",
    "\n",
    "Running it through `sess.run(tf.nn.top_k(tf.constant(a), k=3))` produces:\n",
    "\n",
    "```\n",
    "TopKV2(values=array([[ 0.34763842,  0.24879643,  0.12789202],\n",
    "       [ 0.28086119,  0.27569815,  0.18063401],\n",
    "       [ 0.26076848,  0.23892179,  0.23664738],\n",
    "       [ 0.29198961,  0.26234032,  0.16505091],\n",
    "       [ 0.34396535,  0.24206137,  0.16240774]]), indices=array([[3, 0, 5],\n",
    "       [0, 1, 4],\n",
    "       [0, 5, 1],\n",
    "       [1, 3, 5],\n",
    "       [1, 4, 3]], dtype=int32))\n",
    "```\n",
    "\n",
    "Looking just at the first row we get `[ 0.34763842,  0.24879643,  0.12789202]`, you can confirm these are the 3 largest probabilities in `a`. You'll also notice `[3, 0, 5]` are the corresponding indices."
   ]
  },
  {
   "cell_type": "markdown",
   "metadata": {},
   "source": [
    "**Answer:**\n",
    "The model is usually very certain when classifying signs from the test set (mind the softmax predictions in section \"Now let's use the different networks predicted labels to get more robust predictions\"). For the US traffic signs, this is not quite true. For the only correctly predicted sign, certainty is only 67%. However, the second most likely label has a probability of only 6.8%. For traffic signs that could not be predicted (because they're not part of the database), we can see certainty being much lower for the predicted label as expected."
   ]
  },
  {
   "cell_type": "markdown",
   "metadata": {},
   "source": [
    "> **Note**: Once you have completed all of the code implementations and successfully answered each question above, you may finalize your work by exporting the iPython Notebook as an HTML document. You can do this by using the menu above and navigating to  \\n\",\n",
    "    \"**File -> Download as -> HTML (.html)**. Include the finished document along with this notebook as your submission."
   ]
  },
  {
   "cell_type": "code",
   "execution_count": null,
   "metadata": {
    "collapsed": true
   },
   "outputs": [],
   "source": []
  }
 ],
 "metadata": {
  "anaconda-cloud": {},
  "kernelspec": {
   "display_name": "Python 3",
   "language": "python",
   "name": "python3"
  },
  "language_info": {
   "codemirror_mode": {
    "name": "ipython",
    "version": 3
   },
   "file_extension": ".py",
   "mimetype": "text/x-python",
   "name": "python",
   "nbconvert_exporter": "python",
   "pygments_lexer": "ipython3",
   "version": "3.5.2"
  },
  "widgets": {
   "state": {},
   "version": "1.1.2"
  }
 },
 "nbformat": 4,
 "nbformat_minor": 0
}
